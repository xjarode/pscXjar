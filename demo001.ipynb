{
 "cells": [
  {
   "cell_type": "markdown",
   "metadata": {},
   "source": [
    "# Algorithms Analysis\n",
    "\n",
    "## Introduction\n",
    " \n",
    " . [Introduction to AA](http://nbviewer.ipython.org/github/ipython/ipython/blob/master/examples/Index.ipynb)\n",
    " \n",
    " . [Asymptotic Analysis](https://github.com/ipython/ipython/wiki/A-gallery-of-interesting-IPython-Notebooks)\n",
    " \n",
    " . Experimental AAA: [Python Various Conferences](http://pyvideo.org/), [Pydata Conferences](https://www.youtube.com/user/PyDataTV) , [Scipy Conferences](https://www.youtube.com/user/EnthoughtMedia)\n",
    " \n",
    "\n",
    "## Non Recursive and Recursive AA :\n",
    "\n",
    " . Non Recursive Algo design and analysis http://qt-project.org/doc/qt-4.8/tutorials.html\n",
    " \n",
    " . Recursive Algo design and analaysis   https://code.google.com/p/formlayout\n",
    " \n",
    " . Divide and Conquer : https://pythonhosted.org/guidata/examples.html\n",
    " \n",
    "## Greedy Algorithms :\n",
    "\n",
    " . Greedy Algo intro : [Beginner's guide](http://matplotlib.org/users/beginner.html) , [Gallery](http://matplotlib.org/gallery.html) ,  [General Content](http://matplotlib.org/contents.html) \n",
    " \n",
    " . Sppanning tree : [Tutorial](http://stanford.edu/~mwaskom/software/seaborn/tutorial.html) , [Gallery](http://stanford.edu/~mwaskom/software/seaborn/examples/index.html)\n",
    " \n",
    " . Make Change : [Gallery](http://scikit-image.org/docs/dev/auto_examples/), [User Guide](http://scikit-image.org/docs/dev/user_guide.html)\n",
    "  \n",
    " . Xxxxx : [Introduction](http://ioam.github.io/holoviews) , [Tutorials](http://ioam.github.io/holoviews/Tutorials/index.html)\n",
    "  \n",
    " . Yyyyyy :   [Gallery](http://mpld3.github.io/examples/index.html#example-gallery) \n",
    "\n",
    " \n",
    
    "## Dynamic programming\n",
    "  . DP intro : [Tutorial](http://nbviewer.ipython.org/gist/catherinedevlin/6588378)\n",
    "  \n",
    "  . DNA Sequence alginement : [Tutorial](http://nbviewer.ipython.org/github/yhat/db.py/blob/master/examples/db-example.ipynb)\n",
    "  \n",
    "  . Xxxxx : [Tutorial](https://pypi.python.org/pypi/baresql)\n",
    "\n",
    
    "## Artificil intelligence technics  / Deep Learning\n",
    " . AI intro : [Tutorial](http://scikit-learn.org/stable/tutorial/index.html) , [Gallery](http://scikit-learn.org/stable/auto_examples/index.html)\n",
    " \n",
    " . A-start : [Tutorial](http://deeplearning.net/software/theano/tutorial/), [Related Projects](https://github.com/Theano/Theano/wiki/Related-projects)\n",
    " \n",
    " . Keras: [Presentation] (http://keras.io/)\n",
    "\n",
    " \n",
    
    "## Combinatoric technics\n",
    "\n",
    ". Combinatoric technics intro [Winpython Discussion Group](https://groups.google.com/forum/#!forum/winpython)\n",
    "  \n",
    ". DF , BC [Other Winpython examples](http://nbviewer.ipython.org/github/winpython/winpython_afterdoc/tree/master/)\n"
   ]
  },
  {
   "cell_type": "code",
   "execution_count": null,
   "metadata": {
    "collapsed": false
   },
   "outputs": [],
   "source": []
  }
 ],
 "metadata": {
  "kernelspec": {
   "display_name": "Python 3",
   "language": "python",
   "name": "python3"
  },
  "language_info": {
   "codemirror_mode": {
    "name": "ipython",
    "version": 3
   },
   "file_extension": ".py",
   "mimetype": "text/x-python",
   "name": "python",
   "nbconvert_exporter": "python",
   "pygments_lexer": "ipython3",
   "version": "3.4.3"
  }
 },
 "nbformat": 4,
 "nbformat_minor": 0
}
