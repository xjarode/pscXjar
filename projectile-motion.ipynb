{
 "metadata": {
  "name": "projectile-motion"
 },
 "nbformat": 3,
 "nbformat_minor": 0,
 "worksheets": [
  {
   "cells": [
    {
     "cell_type": "heading",
     "level": 1,
     "metadata": {},
     "source": [
      "Projectile Motion"
     ]
    },
    {
     "cell_type": "raw",
     "metadata": {},
     "source": [
      "This notebook shows off some basic IPython notebook features.  We create a simple class to describe a projectile, given an angle and initial velocity and then instantiate some objects and make plots."
     ]
    },
    {
     "cell_type": "code",
     "collapsed": false,
     "input": [
      "%pylab inline"
     ],
     "language": "python",
     "metadata": {},
     "outputs": [
      {
       "output_type": "stream",
       "stream": "stdout",
       "text": [
        "\n",
        "Welcome to pylab, a matplotlib-based Python environment [backend: module://IPython.zmq.pylab.backend_inline].\n",
        "For more information, type 'help(pylab)'.\n"
       ]
      }
     ],
     "prompt_number": 11
    },
    {
     "cell_type": "code",
     "collapsed": false,
     "input": [
      "class projectile:\n",
      "\n",
      "    # this is called every time a new object is created\n",
      "    def __init__ (self, v=1.0, theta=45, grav=9.81):\n",
      "\n",
      "        self.v = v           # velocity m/s\n",
      "        self.theta = theta   # angle (degrees)\n",
      "        \n",
      "        self.thetaRad = theta*math.pi/180.0\n",
      "        self.vx = v*math.cos(self.thetaRad)\n",
      "        self.vy = v*math.sin(self.thetaRad)\n",
      "\n",
      "        self.g = grav\n",
      "\n",
      "        self.Npts = 1000\n",
      "\n",
      "    def height(self):\n",
      "\n",
      "        # how high does this projectile go?\n",
      "        # vf_y^2 = 0 = vi_y^2 - 2 g h\n",
      "        h = self.vy**2/(2.0*self.g)\n",
      "\n",
      "        return h\n",
      "\n",
      "    def time(self):\n",
      "        \n",
      "        # time of flight up\n",
      "        # vf_y = 0 = vi_y - g t\n",
      "        t = self.vy/self.g\n",
      "\n",
      "        # total time = up + down\n",
      "        t = 2.0*t\n",
      "\n",
      "        return t\n",
      "        \n",
      "    def distance(self):\n",
      "        \n",
      "        d = self.vx*self.time()\n",
      "\n",
      "        return d\n",
      "\n",
      "    def __str__(self):\n",
      "        # a string representation for this class -- so we can print it\n",
      "        str = \" v: %s m/s\\n theta: %s (degrees)\\n height: %s m\\n distance: %s m\\n\" % \\\n",
      "            (`self.v`, `self.theta`, `self.height()`, `self.distance()`)\n",
      "        \n",
      "        return str\n",
      "    \n",
      "    def t(self):\n",
      "        return numpy.linspace(0.0, self.time(), num=self.Npts)\n",
      "    \n",
      "    def x(self):\n",
      "        return self.vx*self.t()\n",
      "    \n",
      "    def y(self):\n",
      "        return self.vy*self.t() - 0.5*self.g*self.t()**2\n"
     ],
     "language": "python",
     "metadata": {},
     "outputs": [],
     "prompt_number": 12
    },
    {
     "cell_type": "code",
     "collapsed": false,
     "input": [
      "p1 = projectile(theta=80, v=10)\n",
      "p2 = projectile(theta=45, v=10)"
     ],
     "language": "python",
     "metadata": {},
     "outputs": [],
     "prompt_number": 13
    },
    {
     "cell_type": "code",
     "collapsed": false,
     "input": [
      "print p1\n",
      "print p2"
     ],
     "language": "python",
     "metadata": {},
     "outputs": [
      {
       "output_type": "stream",
       "stream": "stdout",
       "text": [
        " v: 10 m/s\n",
        " theta: 80 (degrees)\n",
        " height: 4.943151429118012 m\n",
        " distance: 3.4864438667244526 m\n",
        "\n",
        " v: 10 m/s\n",
        " theta: 45 (degrees)\n",
        " height: 2.54841997961264 m\n",
        " distance: 10.19367991845056 m\n",
        "\n"
       ]
      }
     ],
     "prompt_number": 14
    },
    {
     "cell_type": "code",
     "collapsed": false,
     "input": [
      "pylab.plot(p1.x(), p1.y())\n",
      "pylab.plot(p2.x(), p2.y())"
     ],
     "language": "python",
     "metadata": {},
     "outputs": [
      {
       "output_type": "pyout",
       "prompt_number": 15,
       "text": [
        "[<matplotlib.lines.Line2D at 0x296cb10>]"
       ]
      },
      {
       "output_type": "display_data",
       "png": "[encoded data removed]"
      }
     ],
     "prompt_number": 15
    },
    {
     "cell_type": "code",
     "collapsed": false,
     "input": [],
     "language": "python",
     "metadata": {},
     "outputs": [],
     "prompt_number": 15
    }
   ],
   "metadata": {}
  }
 ]
}
